{
 "cells": [
  {
   "cell_type": "markdown",
   "metadata": {},
   "source": [
    "## Description:\n",
    "\n",
    "This notebook aims to use the data within the `IAQF_DATA.csv` file to create the master dataframe for the competition. "
   ]
  },
  {
   "cell_type": "code",
   "execution_count": null,
   "metadata": {},
   "outputs": [],
   "source": [
    "import pandas as pd\n",
    "from scipy.stats import norm\n",
    "from math import log, sqrt, exp\n",
    "import numpy as np\n",
    "\n",
    "def d_plus( x, K, tau, sigma, rfr ):\n",
    "    \n",
    "    return ( (log(x/K) + (rfr + 0.5*(sigma*sigma))*tau ) * (1/(sigma*sqrt(tau))) )\n",
    "\n",
    "def d_minus( x, K, tau, sigma, rfr ):\n",
    "    \n",
    "    return ( d_plus( x, K, tau, sigma, rfr ) - sigma*sqrt(tau) )\n",
    "\n",
    "\n",
    "def bs_call_price( x, K, tau, sigma, rfr ):\n",
    "    \n",
    "    d_1 = d_plus( x, K, tau, sigma, rfr )\n",
    "    d_2 = d_minus( x, K, tau, sigma, rfr )\n",
    "    \n",
    "    return ( x*norm.cdf(d_1) - K*exp(-1.0*rfr*tau)*norm.cdf(d_2) )\n",
    "\n",
    "def bs_put_price( x, K, tau, sigma, rfr ):\n",
    "    \n",
    "    d_1 = d_plus( x, K, tau, sigma, rfr )\n",
    "    d_2 = d_minus( x, K, tau, sigma, rfr )\n",
    "    \n",
    "    return ( K*exp(-1.0*rfr*tau)*norm.cdf(-1.0*d_2) - x*norm.cdf(-1.0*d_1) )\n",
    "\n",
    "def build_master_dataframe():\n",
    "    \n",
    "    all_df = pd.read_csv('./IAQF_DATA.csv')\n",
    "    \n",
    "    rates_df = pd.DataFrame()\n",
    "    rates_df['Dates'] = all_df['Dates_rfrate']\n",
    "    rates_df['rf_rate'] = all_df['rf_rate']\n",
    "\n",
    "    del all_df['Dates_rfrate']\n",
    "    del all_df['rf_rate']\n",
    "    \n",
    "    master = pd.merge(all_df, rates_df, how='inner', on=['Dates'])\n",
    "    \n",
    "    master['bs_call'] = np.vectorize(bs_call_price)(master.SP500, master.SP500, \n",
    "                                                    90/360, master.vol/100, master.rf_rate/100)\n",
    "    master['bs_put'] = np.vectorize(bs_put_price)(master.SP500, master.SP500, \n",
    "                                                  90/360, master.vol/100, master.rf_rate/100)\n",
    "\n",
    "    master['ma_60'] = master.SP500.rolling(window=60).mean()\n",
    "    master['ma_120'] = master.SP500.rolling(window=120).mean()\n",
    "    master['cross'] = master.ma_60 > master.ma_120\n",
    "    master['straddle'] = master.bs_call + master.bs_put\n",
    "    \n",
    "    instruments = ['SP500', 'bs_call', 'bs_put', 'straddle']\n",
    "    \n",
    "    for elm in instruments:\n",
    "        retStr = elm + \"_ret\"\n",
    "        master[retStr] = master[elm].pct_change()\n",
    "        \n",
    "    return master"
   ]
  },
  {
   "cell_type": "markdown",
   "metadata": {},
   "source": [
    "## Let's do portfolio construction for here now .... then figure out how to use one python function in a separate jupyter notebook "
   ]
  },
  {
   "cell_type": "code",
   "execution_count": null,
   "metadata": {},
   "outputs": [],
   "source": [
    "master = build_master_dataframe()"
   ]
  },
  {
   "cell_type": "code",
   "execution_count": null,
   "metadata": {},
   "outputs": [],
   "source": [
    "len(master)"
   ]
  },
  {
   "cell_type": "code",
   "execution_count": null,
   "metadata": {},
   "outputs": [],
   "source": [
    "master = master[119:] # remove NaN values"
   ]
  },
  {
   "cell_type": "code",
   "execution_count": null,
   "metadata": {},
   "outputs": [],
   "source": [
    "master.tail()"
   ]
  },
  {
   "cell_type": "code",
   "execution_count": null,
   "metadata": {},
   "outputs": [],
   "source": [
    "port1 = master[['Dates','SP500','ma_60','ma_120','cross','SP500_ret']]"
   ]
  },
  {
   "cell_type": "code",
   "execution_count": null,
   "metadata": {},
   "outputs": [],
   "source": [
    "port1.head()"
   ]
  },
  {
   "cell_type": "code",
   "execution_count": null,
   "metadata": {},
   "outputs": [],
   "source": [
    "port1['port_ret'] = pd.Series()"
   ]
  },
  {
   "cell_type": "code",
   "execution_count": null,
   "metadata": {},
   "outputs": [],
   "source": []
  },
  {
   "cell_type": "code",
   "execution_count": null,
   "metadata": {},
   "outputs": [],
   "source": []
  }
 ],
 "metadata": {
  "kernelspec": {
   "display_name": "Python 3",
   "language": "python",
   "name": "python3"
  },
  "language_info": {
   "codemirror_mode": {
    "name": "ipython",
    "version": 3
   },
   "file_extension": ".py",
   "mimetype": "text/x-python",
   "name": "python",
   "nbconvert_exporter": "python",
   "pygments_lexer": "ipython3",
   "version": "3.6.3"
  }
 },
 "nbformat": 4,
 "nbformat_minor": 2
}
